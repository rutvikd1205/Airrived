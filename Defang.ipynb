{
  "nbformat": 4,
  "nbformat_minor": 0,
  "metadata": {
    "colab": {
      "provenance": []
    },
    "kernelspec": {
      "name": "python3",
      "display_name": "Python 3"
    },
    "language_info": {
      "name": "python"
    }
  },
  "cells": [
    {
      "cell_type": "code",
      "execution_count": 1,
      "metadata": {
        "colab": {
          "base_uri": "https://localhost:8080/"
        },
        "id": "2nEu3DX6p1Mq",
        "outputId": "bb48e9cb-d88d-42b7-ba44-d96e772be2c5"
      },
      "outputs": [
        {
          "output_type": "stream",
          "name": "stdout",
          "text": [
            "Collecting ioc-fanger\n",
            "  Downloading ioc_fanger-4.2.1-py2.py3-none-any.whl (6.4 kB)\n",
            "Requirement already satisfied: Click in /usr/local/lib/python3.10/dist-packages (from ioc-fanger) (8.1.7)\n",
            "Installing collected packages: ioc-fanger\n",
            "Successfully installed ioc-fanger-4.2.1\n"
          ]
        }
      ],
      "source": [
        "pip install ioc-fanger"
      ]
    },
    {
      "cell_type": "code",
      "source": [
        "pip install PyPDF2"
      ],
      "metadata": {
        "colab": {
          "base_uri": "https://localhost:8080/"
        },
        "id": "dc9X5d5g5U4t",
        "outputId": "31adfa0c-69a9-41c2-bb91-753c7e72ace9"
      },
      "execution_count": 2,
      "outputs": [
        {
          "output_type": "stream",
          "name": "stdout",
          "text": [
            "Collecting PyPDF2\n",
            "  Downloading pypdf2-3.0.1-py3-none-any.whl (232 kB)\n",
            "\u001b[2K     \u001b[90m━━━━━━━━━━━━━━━━━━━━━━━━━━━━━━━━━━━━━━━━\u001b[0m \u001b[32m232.6/232.6 kB\u001b[0m \u001b[31m2.0 MB/s\u001b[0m eta \u001b[36m0:00:00\u001b[0m\n",
            "\u001b[?25hInstalling collected packages: PyPDF2\n",
            "Successfully installed PyPDF2-3.0.1\n"
          ]
        }
      ]
    },
    {
      "cell_type": "code",
      "source": [
        "import re\n",
        "import requests\n",
        "import PyPDF2\n",
        "import ioc_fanger\n",
        "from urllib.parse import urlparse"
      ],
      "metadata": {
        "id": "Q8yl9jj_qbKx"
      },
      "execution_count": 19,
      "outputs": []
    },
    {
      "cell_type": "code",
      "source": [
        "def extract_text_from_pdf(pdf_file):\n",
        "    text = ''\n",
        "    with open(pdf_file, 'rb') as file:\n",
        "        reader = PyPDF2.PdfReader(file)\n",
        "        for page_num in range(len(reader.pages)):\n",
        "            page = reader.pages[page_num]\n",
        "            text += page.extract_text()\n",
        "    return text"
      ],
      "metadata": {
        "id": "yDw0IgiKDrok"
      },
      "execution_count": 4,
      "outputs": []
    },
    {
      "cell_type": "code",
      "source": [
        "pdf = '/content/Shining a Light on DARKSIDE Ransomware Operations _ Google Cloud Blog.pdf'"
      ],
      "metadata": {
        "id": "0QHI7incDuMZ"
      },
      "execution_count": 5,
      "outputs": []
    },
    {
      "cell_type": "code",
      "source": [
        "pdfcontent = extract_text_from_pdf(pdf)"
      ],
      "metadata": {
        "id": "xgp1sIs8EkMB"
      },
      "execution_count": 8,
      "outputs": []
    },
    {
      "cell_type": "code",
      "source": [
        "def fetch_url_content(url):\n",
        "    response = requests.get(url)\n",
        "    return response.text"
      ],
      "metadata": {
        "id": "KvQwTv39qbNo"
      },
      "execution_count": 9,
      "outputs": []
    },
    {
      "cell_type": "code",
      "source": [
        "webcontent = fetch_url_content('https://cloud.google.com/blog/topics/threat-intelligence/shining-a-light-on-darkside-ransomware-operations/')"
      ],
      "metadata": {
        "id": "yo7v-KKzqbQP"
      },
      "execution_count": 10,
      "outputs": []
    },
    {
      "cell_type": "code",
      "source": [
        "def extract_custom_urls(text):\n",
        "    pattern = r'\\b(hxxps?://\\S+?)(?:</?[^>]+>|(?=\\s|$))'\n",
        "    matches = re.findall(pattern, text, re.IGNORECASE)\n",
        "    cleaned_matches = [match.rstrip('.') for match in matches]\n",
        "    return cleaned_matches"
      ],
      "metadata": {
        "id": "vU2USByRqbS1"
      },
      "execution_count": 18,
      "outputs": []
    },
    {
      "cell_type": "code",
      "source": [
        "defangediocs = extract_custom_urls(webcontent)\n",
        "print(defangediocs)"
      ],
      "metadata": {
        "colab": {
          "base_uri": "https://localhost:8080/"
        },
        "id": "2y0rNO_VqbVO",
        "outputId": "31988224-93d3-45f7-fa68-be1c8cd7e79d"
      },
      "execution_count": 12,
      "outputs": [
        {
          "output_type": "stream",
          "name": "stdout",
          "text": [
            "['hxxps://104.193.252[.]197:443/', 'hxxps://162.244.81[.]253:443/', 'hxxps://185.180.197[.]86:443/', 'hxxps://athaliaoriginals[.]com/', 'hxxps://lagrom[.]com:443/font.html', 'hxxps://lagrom[.]com:443/night.html', 'hxxps://lagrom[.]com:443/online.html', 'hxxps://lagrom[.]com:443/send.html', 'hxxps://lagrom[.]com/find.html?key=id#-', 'hxxps://dl.teamviewer[.]com/download/version_15x/TeamViewer_Setup.exe', 'hxxps://downloads.rclone[.]org/v1.54.0/rclone-v1.54.0-windows-amd64.zip', 'hxxp://sol-doc[.]xyz/sol/ID-482875588', 'hxxps://downloads.rclone[.]org/v1.54.0/rclone-v1.54.0-windows-amd64.zip']\n"
          ]
        }
      ]
    },
    {
      "cell_type": "code",
      "source": [
        "def filter_valid_iocs(defanged_iocs):\n",
        "    valid_iocs = []\n",
        "    for ioc in defanged_iocs:\n",
        "        fanged_ioc = ioc_fanger.fang(ioc)\n",
        "        valid_iocs.append(fanged_ioc)\n",
        "    return valid_iocs"
      ],
      "metadata": {
        "id": "5TE1lcPXqbXi"
      },
      "execution_count": 13,
      "outputs": []
    },
    {
      "cell_type": "code",
      "source": [
        "alliocs = filter_valid_iocs(defangediocs)\n",
        "print(alliocs)"
      ],
      "metadata": {
        "colab": {
          "base_uri": "https://localhost:8080/"
        },
        "id": "HkMZlyiLqbZq",
        "outputId": "c3a46d2a-3eff-4013-f759-1f2221988503"
      },
      "execution_count": 14,
      "outputs": [
        {
          "output_type": "stream",
          "name": "stdout",
          "text": [
            "['https://104.193.252.197:443/', 'https://162.244.81.253:443/', 'https://185.180.197.86:443/', 'https://athaliaoriginals.com/', 'https://lagrom.com:443/font.html', 'https://lagrom.com:443/night.html', 'https://lagrom.com:443/online.html', 'https://lagrom.com:443/send.html', 'https://lagrom.com/find.html?key=id#-', 'https://dl.teamviewer.com/download/version_15x/TeamViewer_Setup.exe', 'https://downloads.rclone.org/v1.54.0/rclone-v1.54.0-windows-amd64.zip', 'http://sol-doc.xyz/sol/ID-482875588', 'https://downloads.rclone.org/v1.54.0/rclone-v1.54.0-windows-amd64.zip']\n"
          ]
        }
      ]
    },
    {
      "cell_type": "code",
      "source": [
        "def separate_iocs(iocs):\n",
        "    separated_iocs = []\n",
        "    for ioc in iocs:\n",
        "        parsed_url = urlparse(ioc.strip(\"'\"))\n",
        "\n",
        "        scheme = parsed_url.scheme\n",
        "        domain = parsed_url.hostname\n",
        "        ip_address = parsed_url.hostname\n",
        "        port = parsed_url.port\n",
        "        path = parsed_url.path\n",
        "\n",
        "        separated_iocs.append({\n",
        "            'original_ioc': ioc.strip(\"'\"),\n",
        "            'scheme': scheme,\n",
        "            'domain': domain,\n",
        "            'ip_address': ip_address,\n",
        "            'port': port,\n",
        "            'path': path\n",
        "        })\n",
        "\n",
        "    return separated_iocs\n"
      ],
      "metadata": {
        "id": "BVzi0QiVqbcN"
      },
      "execution_count": 20,
      "outputs": []
    },
    {
      "cell_type": "code",
      "source": [
        "categorized_iocs = separate_iocs(alliocs)\n",
        "\n",
        "for ioc in categorized_iocs:\n",
        "    print(\"Original IOC:\", ioc['original_ioc'])\n",
        "    print(\"Scheme:\", ioc['scheme'])\n",
        "    print(\"Domain:\", ioc['domain'])\n",
        "    print(\"IP Address:\", ioc['ip_address'])\n",
        "    print(\"Port:\", ioc['port'])\n",
        "    print(\"Path:\", ioc['path'])\n",
        "    print()"
      ],
      "metadata": {
        "colab": {
          "base_uri": "https://localhost:8080/"
        },
        "id": "I4jbY-Z6qbe0",
        "outputId": "846f92ca-17b7-4c55-d740-4abcce6aa934"
      },
      "execution_count": 22,
      "outputs": [
        {
          "output_type": "stream",
          "name": "stdout",
          "text": [
            "Original IOC: https://104.193.252.197:443/\n",
            "Scheme: https\n",
            "Domain: 104.193.252.197\n",
            "IP Address: 104.193.252.197\n",
            "Port: 443\n",
            "Path: /\n",
            "\n",
            "Original IOC: https://162.244.81.253:443/\n",
            "Scheme: https\n",
            "Domain: 162.244.81.253\n",
            "IP Address: 162.244.81.253\n",
            "Port: 443\n",
            "Path: /\n",
            "\n",
            "Original IOC: https://185.180.197.86:443/\n",
            "Scheme: https\n",
            "Domain: 185.180.197.86\n",
            "IP Address: 185.180.197.86\n",
            "Port: 443\n",
            "Path: /\n",
            "\n",
            "Original IOC: https://athaliaoriginals.com/\n",
            "Scheme: https\n",
            "Domain: athaliaoriginals.com\n",
            "IP Address: athaliaoriginals.com\n",
            "Port: None\n",
            "Path: /\n",
            "\n",
            "Original IOC: https://lagrom.com:443/font.html\n",
            "Scheme: https\n",
            "Domain: lagrom.com\n",
            "IP Address: lagrom.com\n",
            "Port: 443\n",
            "Path: /font.html\n",
            "\n",
            "Original IOC: https://lagrom.com:443/night.html\n",
            "Scheme: https\n",
            "Domain: lagrom.com\n",
            "IP Address: lagrom.com\n",
            "Port: 443\n",
            "Path: /night.html\n",
            "\n",
            "Original IOC: https://lagrom.com:443/online.html\n",
            "Scheme: https\n",
            "Domain: lagrom.com\n",
            "IP Address: lagrom.com\n",
            "Port: 443\n",
            "Path: /online.html\n",
            "\n",
            "Original IOC: https://lagrom.com:443/send.html\n",
            "Scheme: https\n",
            "Domain: lagrom.com\n",
            "IP Address: lagrom.com\n",
            "Port: 443\n",
            "Path: /send.html\n",
            "\n",
            "Original IOC: https://lagrom.com/find.html?key=id#-\n",
            "Scheme: https\n",
            "Domain: lagrom.com\n",
            "IP Address: lagrom.com\n",
            "Port: None\n",
            "Path: /find.html\n",
            "\n",
            "Original IOC: https://dl.teamviewer.com/download/version_15x/TeamViewer_Setup.exe\n",
            "Scheme: https\n",
            "Domain: dl.teamviewer.com\n",
            "IP Address: dl.teamviewer.com\n",
            "Port: None\n",
            "Path: /download/version_15x/TeamViewer_Setup.exe\n",
            "\n",
            "Original IOC: https://downloads.rclone.org/v1.54.0/rclone-v1.54.0-windows-amd64.zip\n",
            "Scheme: https\n",
            "Domain: downloads.rclone.org\n",
            "IP Address: downloads.rclone.org\n",
            "Port: None\n",
            "Path: /v1.54.0/rclone-v1.54.0-windows-amd64.zip\n",
            "\n",
            "Original IOC: http://sol-doc.xyz/sol/ID-482875588\n",
            "Scheme: http\n",
            "Domain: sol-doc.xyz\n",
            "IP Address: sol-doc.xyz\n",
            "Port: None\n",
            "Path: /sol/ID-482875588\n",
            "\n",
            "Original IOC: https://downloads.rclone.org/v1.54.0/rclone-v1.54.0-windows-amd64.zip\n",
            "Scheme: https\n",
            "Domain: downloads.rclone.org\n",
            "IP Address: downloads.rclone.org\n",
            "Port: None\n",
            "Path: /v1.54.0/rclone-v1.54.0-windows-amd64.zip\n",
            "\n"
          ]
        }
      ]
    },
    {
      "cell_type": "code",
      "source": [
        "categorized_iocs"
      ],
      "metadata": {
        "colab": {
          "base_uri": "https://localhost:8080/"
        },
        "id": "bRRFErAg-ryU",
        "outputId": "8651b72d-3a92-4b15-dcca-2dc44e0cd18b"
      },
      "execution_count": 23,
      "outputs": [
        {
          "output_type": "execute_result",
          "data": {
            "text/plain": [
              "[{'original_ioc': 'https://104.193.252.197:443/',\n",
              "  'scheme': 'https',\n",
              "  'domain': '104.193.252.197',\n",
              "  'ip_address': '104.193.252.197',\n",
              "  'port': 443,\n",
              "  'path': '/'},\n",
              " {'original_ioc': 'https://162.244.81.253:443/',\n",
              "  'scheme': 'https',\n",
              "  'domain': '162.244.81.253',\n",
              "  'ip_address': '162.244.81.253',\n",
              "  'port': 443,\n",
              "  'path': '/'},\n",
              " {'original_ioc': 'https://185.180.197.86:443/',\n",
              "  'scheme': 'https',\n",
              "  'domain': '185.180.197.86',\n",
              "  'ip_address': '185.180.197.86',\n",
              "  'port': 443,\n",
              "  'path': '/'},\n",
              " {'original_ioc': 'https://athaliaoriginals.com/',\n",
              "  'scheme': 'https',\n",
              "  'domain': 'athaliaoriginals.com',\n",
              "  'ip_address': 'athaliaoriginals.com',\n",
              "  'port': None,\n",
              "  'path': '/'},\n",
              " {'original_ioc': 'https://lagrom.com:443/font.html',\n",
              "  'scheme': 'https',\n",
              "  'domain': 'lagrom.com',\n",
              "  'ip_address': 'lagrom.com',\n",
              "  'port': 443,\n",
              "  'path': '/font.html'},\n",
              " {'original_ioc': 'https://lagrom.com:443/night.html',\n",
              "  'scheme': 'https',\n",
              "  'domain': 'lagrom.com',\n",
              "  'ip_address': 'lagrom.com',\n",
              "  'port': 443,\n",
              "  'path': '/night.html'},\n",
              " {'original_ioc': 'https://lagrom.com:443/online.html',\n",
              "  'scheme': 'https',\n",
              "  'domain': 'lagrom.com',\n",
              "  'ip_address': 'lagrom.com',\n",
              "  'port': 443,\n",
              "  'path': '/online.html'},\n",
              " {'original_ioc': 'https://lagrom.com:443/send.html',\n",
              "  'scheme': 'https',\n",
              "  'domain': 'lagrom.com',\n",
              "  'ip_address': 'lagrom.com',\n",
              "  'port': 443,\n",
              "  'path': '/send.html'},\n",
              " {'original_ioc': 'https://lagrom.com/find.html?key=id#-',\n",
              "  'scheme': 'https',\n",
              "  'domain': 'lagrom.com',\n",
              "  'ip_address': 'lagrom.com',\n",
              "  'port': None,\n",
              "  'path': '/find.html'},\n",
              " {'original_ioc': 'https://dl.teamviewer.com/download/version_15x/TeamViewer_Setup.exe',\n",
              "  'scheme': 'https',\n",
              "  'domain': 'dl.teamviewer.com',\n",
              "  'ip_address': 'dl.teamviewer.com',\n",
              "  'port': None,\n",
              "  'path': '/download/version_15x/TeamViewer_Setup.exe'},\n",
              " {'original_ioc': 'https://downloads.rclone.org/v1.54.0/rclone-v1.54.0-windows-amd64.zip',\n",
              "  'scheme': 'https',\n",
              "  'domain': 'downloads.rclone.org',\n",
              "  'ip_address': 'downloads.rclone.org',\n",
              "  'port': None,\n",
              "  'path': '/v1.54.0/rclone-v1.54.0-windows-amd64.zip'},\n",
              " {'original_ioc': 'http://sol-doc.xyz/sol/ID-482875588',\n",
              "  'scheme': 'http',\n",
              "  'domain': 'sol-doc.xyz',\n",
              "  'ip_address': 'sol-doc.xyz',\n",
              "  'port': None,\n",
              "  'path': '/sol/ID-482875588'},\n",
              " {'original_ioc': 'https://downloads.rclone.org/v1.54.0/rclone-v1.54.0-windows-amd64.zip',\n",
              "  'scheme': 'https',\n",
              "  'domain': 'downloads.rclone.org',\n",
              "  'ip_address': 'downloads.rclone.org',\n",
              "  'port': None,\n",
              "  'path': '/v1.54.0/rclone-v1.54.0-windows-amd64.zip'}]"
            ]
          },
          "metadata": {},
          "execution_count": 23
        }
      ]
    }
  ]
}